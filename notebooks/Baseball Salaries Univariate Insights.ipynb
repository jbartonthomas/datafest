{
 "cells": [
  {
   "cell_type": "markdown",
   "metadata": {},
   "source": [
    "# Baseball Salaries Univariate Insights"
   ]
  },
  {
   "cell_type": "markdown",
   "metadata": {},
   "source": [
    "## Learning Objectives"
   ]
  },
  {
   "cell_type": "markdown",
   "metadata": {},
   "source": [
    "Review information related to individual columns\n",
    "    * summary stats\n",
    "    * density plots\n",
    "    * slicing groups and comparing group distributions"
   ]
  },
  {
   "cell_type": "code",
   "execution_count": null,
   "metadata": {
    "collapsed": true
   },
   "outputs": [],
   "source": [
    "import pandas as pd"
   ]
  },
  {
   "cell_type": "code",
   "execution_count": null,
   "metadata": {
    "collapsed": true
   },
   "outputs": [],
   "source": [
    "%matplotlib inline"
   ]
  },
  {
   "cell_type": "markdown",
   "metadata": {},
   "source": [
    "## Get Data"
   ]
  },
  {
   "cell_type": "code",
   "execution_count": null,
   "metadata": {
    "collapsed": true
   },
   "outputs": [],
   "source": [
    "df = pd.read_csv('../data/baseball_data.csv')"
   ]
  },
  {
   "cell_type": "markdown",
   "metadata": {},
   "source": [
    "## Salaries Summary Sats"
   ]
  },
  {
   "cell_type": "markdown",
   "metadata": {},
   "source": [
    "Notes:\n",
    "    * Median Salary is 740,000\n",
    "    * Mean Salary is 1,250,000\n",
    "    * The distribution is highly skewed as will be shown in the KDE plot below."
   ]
  },
  {
   "cell_type": "code",
   "execution_count": null,
   "metadata": {
    "collapsed": false
   },
   "outputs": [],
   "source": [
    "df.salary_in_thousands_of_dollars.describe()"
   ]
  },
  {
   "cell_type": "markdown",
   "metadata": {},
   "source": [
    "## KDE Plot Salary"
   ]
  },
  {
   "cell_type": "markdown",
   "metadata": {},
   "source": [
    "Notes:\n",
    "    * as expected we see a right skew\n",
    "    * this is reasonable since the values are forced to be greater than zero\n",
    "    * there may be some bimodality"
   ]
  },
  {
   "cell_type": "code",
   "execution_count": null,
   "metadata": {
    "collapsed": false
   },
   "outputs": [],
   "source": [
    "df.salary_in_thousands_of_dollars.plot(kind='kde');"
   ]
  },
  {
   "cell_type": "markdown",
   "metadata": {},
   "source": [
    "## View Univariate Stats within Groups"
   ]
  },
  {
   "cell_type": "markdown",
   "metadata": {},
   "source": [
    "###### indicator_of_free_agency_eligibility"
   ]
  },
  {
   "cell_type": "markdown",
   "metadata": {},
   "source": [
    "Notes:\n",
    "    * green is ineligible, blue is eligible\n",
    "    * eligble players appear to be paid significantly more when we look at median salaries"
   ]
  },
  {
   "cell_type": "code",
   "execution_count": null,
   "metadata": {
    "collapsed": false
   },
   "outputs": [],
   "source": [
    "col = 'indicator_of_free_agency_eligibility'\n",
    "grp = df.groupby(col).salary_in_thousands_of_dollars\n",
    "print(grp.describe())\n",
    "\n",
    "bix = df[col] == 1\n",
    "df[bix].salary_in_thousands_of_dollars.plot(kind='kde');\n",
    "\n",
    "df[~bix].salary_in_thousands_of_dollars.plot(kind='kde');"
   ]
  },
  {
   "cell_type": "markdown",
   "metadata": {},
   "source": [
    "###### indicator_of_arbitration_eligibility"
   ]
  },
  {
   "cell_type": "markdown",
   "metadata": {},
   "source": [
    "Notes:\n",
    "    * again eligible players are paid significantly more"
   ]
  },
  {
   "cell_type": "code",
   "execution_count": null,
   "metadata": {
    "collapsed": false
   },
   "outputs": [],
   "source": [
    "col = 'indicator_of_arbitration_eligibility'\n",
    "grp = df.groupby(col).salary_in_thousands_of_dollars\n",
    "print(grp.describe())\n",
    "\n",
    "bix = df[col] == 1\n",
    "df[bix].salary_in_thousands_of_dollars.plot(kind='kde');\n",
    "\n",
    "df[~bix].salary_in_thousands_of_dollars.plot(kind='kde');"
   ]
  },
  {
   "cell_type": "markdown",
   "metadata": {},
   "source": [
    "###### indicator_of_free_agent_in_1991_1992"
   ]
  },
  {
   "cell_type": "code",
   "execution_count": null,
   "metadata": {
    "collapsed": false
   },
   "outputs": [],
   "source": [
    "col = 'indicator_of_free_agent_in_1991_1992'\n",
    "grp = df.groupby(col).salary_in_thousands_of_dollars\n",
    "print(grp.describe())\n",
    "\n",
    "bix = df[col] == 1\n",
    "df[bix].salary_in_thousands_of_dollars.plot(kind='kde');\n",
    "\n",
    "df[~bix].salary_in_thousands_of_dollars.plot(kind='kde');"
   ]
  },
  {
   "cell_type": "markdown",
   "metadata": {},
   "source": [
    "###### indicator_of_arbitration_in_1991_1992"
   ]
  },
  {
   "cell_type": "code",
   "execution_count": null,
   "metadata": {
    "collapsed": false
   },
   "outputs": [],
   "source": [
    "col = 'indicator_of_arbitration_in_1991_1992'\n",
    "grp = df.groupby(col).salary_in_thousands_of_dollars\n",
    "print(grp.describe())\n",
    "\n",
    "bix = df[col] == 1\n",
    "df[bix].salary_in_thousands_of_dollars.plot(kind='kde');\n",
    "\n",
    "df[~bix].salary_in_thousands_of_dollars.plot(kind='kde');"
   ]
  }
 ],
 "metadata": {
  "kernelspec": {
   "display_name": "Python 3",
   "language": "python",
   "name": "python3"
  },
  "language_info": {
   "codemirror_mode": {
    "name": "ipython",
    "version": 3
   },
   "file_extension": ".py",
   "mimetype": "text/x-python",
   "name": "python",
   "nbconvert_exporter": "python",
   "pygments_lexer": "ipython3",
   "version": "3.4.4"
  }
 },
 "nbformat": 4,
 "nbformat_minor": 0
}
