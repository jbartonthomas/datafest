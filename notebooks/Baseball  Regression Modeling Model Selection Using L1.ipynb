{
 "cells": [
  {
   "cell_type": "markdown",
   "metadata": {},
   "source": [
    "# Baseball  Regression Modeling Model Selection Using L1"
   ]
  },
  {
   "cell_type": "markdown",
   "metadata": {},
   "source": [
    "## Learning Objectives"
   ]
  },
  {
   "cell_type": "markdown",
   "metadata": {},
   "source": [
    "Run a basic regression using L1 regularization to conduct variable selection\n",
    "    * run a simple OLS\n",
    "    * analyze output\n",
    "    * run L1 regression and identify best regularization parameter\n",
    "    * interpret model parameters"
   ]
  },
  {
   "cell_type": "markdown",
   "metadata": {},
   "source": [
    "## Imports"
   ]
  },
  {
   "cell_type": "code",
   "execution_count": null,
   "metadata": {
    "collapsed": true
   },
   "outputs": [],
   "source": [
    "import pandas as pd\n",
    "import statsmodels.api as sms\n",
    "import sklearn.linear_model as lm"
   ]
  },
  {
   "cell_type": "code",
   "execution_count": null,
   "metadata": {
    "collapsed": false
   },
   "outputs": [],
   "source": [
    "%matplotlib inline"
   ]
  },
  {
   "cell_type": "markdown",
   "metadata": {},
   "source": [
    "## Get Data and Subset Data"
   ]
  },
  {
   "cell_type": "code",
   "execution_count": null,
   "metadata": {
    "collapsed": false
   },
   "outputs": [],
   "source": [
    "# retrieve csv file and store to dataframe\n",
    "df = pd.read_csv('../data/baseball_data.csv')\n",
    "\n",
    "# subset the dataframe removing rows with NULL values\n",
    "bix = df.notnull().all(axis=1)\n",
    "df = df[bix]"
   ]
  },
  {
   "cell_type": "markdown",
   "metadata": {},
   "source": [
    "## A First Regression Model Using All Variables"
   ]
  },
  {
   "cell_type": "markdown",
   "metadata": {},
   "source": [
    "The hope here is that we can get a batch look at how the variables relate to the target. This unfortunately fails due to tight correlations within the covariates."
   ]
  },
  {
   "cell_type": "code",
   "execution_count": null,
   "metadata": {
    "collapsed": false
   },
   "outputs": [],
   "source": [
    "model = sms.OLS(df.salary_in_thousands_of_dollars, sms.add_constant(df.iloc[:, 1:]))"
   ]
  },
  {
   "cell_type": "markdown",
   "metadata": {},
   "source": [
    "Notes:\n",
    "    * we acheive a fairly high R2 right off the bat with this approach .86\n",
    "    * a couple of variables are significant or nearly so\n",
    "        - on_base_percentage\n",
    "        - number_of_runs\n",
    "        - number_of_runs_batted_in\n",
    "        - number_of_strike_outs\n",
    "        - number_of_stolen_bases\n",
    "        - indicator_of_free_agency_eligibility\n",
    "        - indicator_of_free_agent_in_1991_1992\n",
    "        - indicator_of_arbitration_eligibility\n",
    "        - indicator_of_arbitration_in_1991_1992\n",
    "    * there are a large number of variables, how do we know what should be in the model and what should be out?\n",
    "    * warning 2 in the printed output below states there may be high multicollinearity (high correlation between covariates)"
   ]
  },
  {
   "cell_type": "code",
   "execution_count": null,
   "metadata": {
    "collapsed": false,
    "scrolled": true
   },
   "outputs": [],
   "source": [
    "result = model.fit()"
   ]
  },
  {
   "cell_type": "code",
   "execution_count": null,
   "metadata": {
    "collapsed": false
   },
   "outputs": [],
   "source": [
    "print(result.summary())"
   ]
  },
  {
   "cell_type": "markdown",
   "metadata": {},
   "source": [
    "## Model Selection Using L1 Regression"
   ]
  },
  {
   "cell_type": "markdown",
   "metadata": {},
   "source": [
    "Notes:\n",
    "        * fit L1 penealized model with alpha between 2^-15 and 2^15 \n",
    "        * this will force an increasing number of the parameters to zero\n",
    "        * the nonzero variables are the selected variables\n",
    "        * we choose the model with the minimal aic, bic\n",
    "        * last we will refit the \"best\" model and interpret the variables"
   ]
  },
  {
   "cell_type": "code",
   "execution_count": null,
   "metadata": {
    "collapsed": true
   },
   "outputs": [],
   "source": [
    "model = sms.OLS(df.salary_in_thousands_of_dollars, df.iloc[:, 1:])"
   ]
  },
  {
   "cell_type": "code",
   "execution_count": null,
   "metadata": {
    "collapsed": false
   },
   "outputs": [],
   "source": [
    "# declare lists for storage\n",
    "nums = list()\n",
    "parmslist = list()\n",
    "\n",
    "# loop from k = -15 to k = 15 increasing the value of the \n",
    "# penalization parameter calculated 2**k\n",
    "for k in range(-15, 15):\n",
    "    alpha = 2**k\n",
    "    \n",
    "    # fit regression\n",
    "    reg_results = model.fit_regularized(alpha=alpha)\n",
    "    \n",
    "    # get aic and bic\n",
    "    aic = reg_results.aic\n",
    "    bic = reg_results.bic\n",
    "    \n",
    "    # count the number non zero parameters\n",
    "    parmct = (reg_results.params > 0).sum()\n",
    "    \n",
    "    # get rsqrd\n",
    "    rsqr = reg_results.rsquared\n",
    "    \n",
    "    # collect the list of nonzero parameters\n",
    "    parms = reg_results.params[(reg_results.params > 0)].index.tolist()\n",
    "    \n",
    "    # store values\n",
    "    parmslist.append(parms)\n",
    "    nums.append((alpha, aic, bic, rsqr, parmct))"
   ]
  },
  {
   "cell_type": "code",
   "execution_count": null,
   "metadata": {
    "collapsed": false
   },
   "outputs": [],
   "source": [
    "modelsdf = pd.DataFrame(nums, columns=['alpha', 'aic', 'bic', 'rsqr', 'parmsct'])"
   ]
  },
  {
   "cell_type": "code",
   "execution_count": null,
   "metadata": {
    "collapsed": false
   },
   "outputs": [],
   "source": [
    "modelsdf[['aic', 'bic']].plot()"
   ]
  },
  {
   "cell_type": "code",
   "execution_count": null,
   "metadata": {
    "collapsed": false,
    "scrolled": true
   },
   "outputs": [],
   "source": [
    "for lst in parmslist:\n",
    "    strn = ''\n",
    "    for item in lst:\n",
    "        strn += item + ', '\n",
    "    print (strn)"
   ]
  },
  {
   "cell_type": "markdown",
   "metadata": {
    "collapsed": true
   },
   "source": [
    "## Rerun Regression on \"Best\" Model"
   ]
  },
  {
   "cell_type": "markdown",
   "metadata": {},
   "source": [
    "Notes:\n",
    "    * Using the best model from above, we re-fit without L1 regularization.\n",
    "    * On the first fit below number_of_runs and number_of_walks are not significant so we re-fit after dropping the variables."
   ]
  },
  {
   "cell_type": "markdown",
   "metadata": {},
   "source": [
    "##### Model 1"
   ]
  },
  {
   "cell_type": "code",
   "execution_count": null,
   "metadata": {
    "collapsed": false
   },
   "outputs": [],
   "source": [
    "model = sms.OLS(df.salary_in_thousands_of_dollars, \n",
    "                sms.add_constant(\n",
    "                    df[[\n",
    "                        'number_of_runs', \n",
    "                        'number_of_home_runs', \n",
    "                        'number_of_runs_batted_in',\n",
    "                        'number_of_walks',\n",
    "                        'number_of_stolen_bases',\n",
    "                        'indicator_of_free_agency_eligibility',\n",
    "                        'indicator_of_arbitration_eligibility' \n",
    "                        ]]))"
   ]
  },
  {
   "cell_type": "code",
   "execution_count": null,
   "metadata": {
    "collapsed": false
   },
   "outputs": [],
   "source": [
    "results = model.fit()"
   ]
  },
  {
   "cell_type": "code",
   "execution_count": null,
   "metadata": {
    "collapsed": false
   },
   "outputs": [],
   "source": [
    "print(results.summary())"
   ]
  },
  {
   "cell_type": "markdown",
   "metadata": {},
   "source": [
    "##### Model 2"
   ]
  },
  {
   "cell_type": "markdown",
   "metadata": {},
   "source": [
    "Interpretation:\n",
    "    * for continuous variables number_runs_batted_in and number_of_stolen_bases we interpret the coefficients as\n",
    "        - a one unit change in number_of_runs_batted_in corresponds to a 18.7 thousand dollar increase in salary\n",
    "        - a one unit change in number_of_stolen_bases corresponds to a 11.4 thousand dollar increase in salary\n",
    "    * for indicator variables we interpret the coefficients as\n",
    "        - when a person is free agent eligible we see an average 1.33 million increase in salary\n",
    "        - when a person is arbitration eligible we see an average .87 million increase in salary"
   ]
  },
  {
   "cell_type": "code",
   "execution_count": null,
   "metadata": {
    "collapsed": true
   },
   "outputs": [],
   "source": [
    "model = sms.OLS(df.salary_in_thousands_of_dollars, \n",
    "                sms.add_constant(\n",
    "                    df[[\n",
    "                        'number_of_runs_batted_in',\n",
    "                        'number_of_stolen_bases',\n",
    "                        'indicator_of_free_agency_eligibility',\n",
    "                        'indicator_of_arbitration_eligibility' \n",
    "                        ]]))"
   ]
  },
  {
   "cell_type": "code",
   "execution_count": null,
   "metadata": {
    "collapsed": true
   },
   "outputs": [],
   "source": [
    "results = model.fit()"
   ]
  },
  {
   "cell_type": "code",
   "execution_count": null,
   "metadata": {
    "collapsed": false
   },
   "outputs": [],
   "source": [
    "print(results.summary())"
   ]
  }
 ],
 "metadata": {
  "kernelspec": {
   "display_name": "Python 3",
   "language": "python",
   "name": "python3"
  },
  "language_info": {
   "codemirror_mode": {
    "name": "ipython",
    "version": 3
   },
   "file_extension": ".py",
   "mimetype": "text/x-python",
   "name": "python",
   "nbconvert_exporter": "python",
   "pygments_lexer": "ipython3",
   "version": "3.4.4"
  }
 },
 "nbformat": 4,
 "nbformat_minor": 0
}
